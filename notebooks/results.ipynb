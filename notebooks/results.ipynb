{
 "cells": [
  {
   "cell_type": "code",
   "execution_count": null,
   "metadata": {},
   "outputs": [],
   "source": [
    "import pandas as pd\n",
    "import glob\n",
    "import json\n",
    "import matplotlib.pyplot as plt\n",
    "from argparse import ArgumentParser\n",
    "import seaborn as sns\n",
    "\n",
    "from utils.save import load_json_array"
   ]
  },
  {
   "cell_type": "markdown",
   "metadata": {},
   "source": [
    "# Number of epochs online"
   ]
  },
  {
   "cell_type": "code",
   "execution_count": null,
   "metadata": {},
   "outputs": [],
   "source": [
    "parser = ArgumentParser()\n",
    "parser.add_argument(\n",
    "    \"--above-version\", default=\"0\", \n",
    "    help=\"include only version folders with number equal or higher than it.\")\n",
    "\n",
    "parsed_args = parser.parse_args([])"
   ]
  },
  {
   "cell_type": "code",
   "execution_count": null,
   "metadata": {},
   "outputs": [],
   "source": [
    "path_pattern = \"../model/MF/mean-field/version_*/val_dict.json\"\n",
    "json_paths = sorted(glob.glob(path_pattern))"
   ]
  },
  {
   "cell_type": "code",
   "execution_count": null,
   "metadata": {},
   "outputs": [],
   "source": [
    "n_epochs_dict = {}\n",
    "\n",
    "for json_path in json_paths:\n",
    "\n",
    "    # get version number and name\n",
    "    version_name = json_path.split(\"/\")[-2]\n",
    "    version_number = int(version_name.split(\"_\")[-1])\n",
    "    if version_number < int(parsed_args.above_version):\n",
    "        continue\n",
    "\n",
    "    #  get number of epochs\n",
    "    with open(json_path, 'r') as f:\n",
    "        val_dict = json.load(f)\n",
    "\n",
    "    best_epochs = []\n",
    "    for (i, perf_list) in enumerate(val_dict.values()):\n",
    "        if i % 2 == 0:\n",
    "            best_epochs.append(len(perf_list) - 7)\n",
    "    try:\n",
    "        plt.plot(range(12, 25), best_epochs, label=version_name)\n",
    "    except ValueError:\n",
    "        plt.plot(range(12, 21), best_epochs, label=version_name)\n",
    "    n_epochs_dict[version_name] = best_epochs \n",
    "\n",
    "print(n_epochs_dict)\n",
    "plt.legend()\n",
    "plt.savefig(\"../img/n-epoch-val.svg\", bbox_inches=\"tight\")\n"
   ]
  },
  {
   "cell_type": "code",
   "execution_count": null,
   "metadata": {},
   "outputs": [],
   "source": [
    "len(best_epochs)"
   ]
  },
  {
   "cell_type": "markdown",
   "metadata": {},
   "source": [
    "# BIU results"
   ]
  },
  {
   "cell_type": "code",
   "execution_count": null,
   "metadata": {},
   "outputs": [],
   "source": [
    "biu_results_path = \"../safebox/TyXe-results-220817.json\"\n",
    "results_df = load_json_array(biu_results_path)"
   ]
  },
  {
   "cell_type": "code",
   "execution_count": null,
   "metadata": {},
   "outputs": [],
   "source": [
    "results_df[[\"loss\", \"auc\", \"train_time\"]].agg([\"mean\", \"std\"]).T"
   ]
  },
  {
   "cell_type": "code",
   "execution_count": null,
   "metadata": {},
   "outputs": [],
   "source": [
    "results_df"
   ]
  },
  {
   "cell_type": "markdown",
   "metadata": {},
   "source": [
    "# BIU ablation results"
   ]
  },
  {
   "cell_type": "code",
   "execution_count": null,
   "metadata": {},
   "outputs": [],
   "source": [
    "ablation_results_path = \"../safebox/TyXe-ablation-220817.json\"\n",
    "ablation_df = load_json_array(ablation_results_path)\n",
    "ablation_df"
   ]
  },
  {
   "cell_type": "code",
   "execution_count": null,
   "metadata": {},
   "outputs": [],
   "source": []
  },
  {
   "cell_type": "code",
   "execution_count": null,
   "metadata": {},
   "outputs": [],
   "source": [
    "tr_dict"
   ]
  },
  {
   "cell_type": "code",
   "execution_count": null,
   "metadata": {},
   "outputs": [],
   "source": [
    "def print_latex(df, column_format=\"c\", **kwargs):\n",
    "    n_cols = df.shape[1] + 1\n",
    "    print(df.to_latex(column_format=\"c\" * n_cols, **kwargs))\n",
    "\n",
    "ablation_table = ablation_df.groupby(\"ablation\")[[\"loss\", \"auc\", \"train_time\"]].agg([\"mean\", \"std\"])\n",
    "ablation_table\n",
    "\n",
    "#round\n",
    "round_dict = dict(zip(ablation_table.columns, [4] * 4 + [1] * 2))\n",
    "ablation_table = ablation_table.round(round_dict)\n",
    "\n",
    "# rename training regimes\n",
    "# tr_dict = dict(zip([f\"i\" for i in range(4)], ['BIFT', 'PBT', 'IFT', 'SML']))\n",
    "# ablation_table = ablation_table.rename(tr_dict).sort_index(0)\n",
    "ablation_table.index = ['BIFT-init', 'BIFT-NIP+init', 'BIFT', 'BIFT-NIP']\n",
    "ablation_table = ablation_table.iloc[[2, 3, 0, 1], :]\n",
    "ablation_table\n",
    "\n",
    "perf_dict = dict(zip([\"loss\", \"auc\", \"train_time\"], [\"NLL\", \"AUC\", \"training time\"]))\n",
    "ablation_table = ablation_table.rename(perf_dict, axis=1, level=0)\n",
    "\n",
    "\n",
    "print_latex(ablation_table.groupby(axis=1, level=0, sort=False).agg(\n",
    "    # lambda srs: f\"{srs.at[0]} + {srs.at[1]}\")\n",
    "    lambda df: df.iloc[:, 0].astype(\"str\").str.cat(df.iloc[:, 1].astype(\"str\"), sep=\" ± \"))\n",
    ")\n"
   ]
  },
  {
   "cell_type": "code",
   "execution_count": null,
   "metadata": {},
   "outputs": [],
   "source": [
    "sns.set(font_scale=1.5)\n",
    "fig, axes = plt.subplots(1, 3, figsize =(18, 6), gridspec_kw=dict(wspace=0.4))\n",
    "loss_barplot = sns.barplot(x=\"ablation\", y=\"loss\", data=ablation_df, ci=\"sd\", ax=axes[0])\n",
    "loss_barplot.set_ylim(0.605, 0.629)\n",
    "auc_barplot = sns.barplot(x=\"ablation\", y=\"auc\", data=ablation_df, ci=\"sd\", ax=axes[1])\n",
    "auc_barplot.set_ylim(0.69, 0.72)\n",
    "time_barplot = sns.barplot(x=\"ablation\", y=\"train_time\", data=ablation_df, ci=\"sd\", ax=axes[2])"
   ]
  }
 ],
 "metadata": {
  "kernelspec": {
   "display_name": "Python 3.8.2 ('tyxe')",
   "language": "python",
   "name": "python3"
  },
  "language_info": {
   "codemirror_mode": {
    "name": "ipython",
    "version": 3
   },
   "file_extension": ".py",
   "mimetype": "text/x-python",
   "name": "python",
   "nbconvert_exporter": "python",
   "pygments_lexer": "ipython3",
   "version": "3.8.2"
  },
  "orig_nbformat": 4,
  "vscode": {
   "interpreter": {
    "hash": "6e8b746a8311f1ca0a88d9ac835a0b13cb2eeabaa3ffb77d4d6963e5660a652f"
   }
  }
 },
 "nbformat": 4,
 "nbformat_minor": 2
}
